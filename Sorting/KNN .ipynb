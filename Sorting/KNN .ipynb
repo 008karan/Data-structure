{
 "cells": [
  {
   "cell_type": "code",
   "execution_count": 33,
   "metadata": {},
   "outputs": [],
   "source": [
    "import numpy as np\n",
    "from math import sqrt\n",
    "import random"
   ]
  },
  {
   "cell_type": "markdown",
   "metadata": {},
   "source": [
    "###  Created dataset of 1000 people.\n",
    "Assuming that each feature vector is of shape 10x1. Hence dataset is of shape 10x1000.\n",
    "Here each column represent data of one person and column number as label of that person."
   ]
  },
  {
   "cell_type": "code",
   "execution_count": 50,
   "metadata": {},
   "outputs": [],
   "source": [
    "def Get_data(feature_shape,images):\n",
    "    \n",
    "    data=np.random.randn(feature_shape,images)\n",
    "    \n",
    "    return data"
   ]
  },
  {
   "attachments": {
    "image.png": {
     "image/png": "[encoded data removed]"
    }
   },
   "cell_type": "markdown",
   "metadata": {},
   "source": [
    "### To find distance between vectors used euclidean distance formula.\n",
    "Used vectorised implementation for faster computation. \n",
    "\n",
    "Formula used:\n",
    "![image.png](attachment:image.png)"
   ]
  },
  {
   "cell_type": "code",
   "execution_count": 40,
   "metadata": {},
   "outputs": [],
   "source": [
    "def Get_Distance(vector1, vector2):\n",
    "    \n",
    "    distance=np.sqrt(np.sum(np.square(vector1-vector2),axis=0))\n",
    "    \n",
    "    return distance"
   ]
  },
  {
   "cell_type": "markdown",
   "metadata": {},
   "source": [
    "### Sorting the distances \n",
    "Used Quicksort for sorting. Here sorting is done along with the indexes. After sorting returning the array of indexes."
   ]
  },
  {
   "cell_type": "code",
   "execution_count": 41,
   "metadata": {},
   "outputs": [],
   "source": [
    "def Quick_Sort(alist, low,high,index):\n",
    "   \n",
    "  if low<high:      \n",
    "    \n",
    "    pivotindex =  partition(alist,low,high)\n",
    "    \n",
    "    Quick_Sort(alist,low,pivotindex-1,index)\n",
    "    Quick_Sort(alist,pivotindex+1 ,high,index)\n",
    "    \n",
    "    return index\n",
    "\n",
    "def partition(alist,low,high):\n",
    "    \n",
    "    pivot=alist[high]\n",
    "    pivotindex=low\n",
    "    \n",
    "    for i in range(low,high):\n",
    "        \n",
    "        if alist[i]<pivot:\n",
    "            \n",
    "            alist[i],alist[pivotindex]=alist[pivotindex], alist[i]       \n",
    "            index[i],index[pivotindex]=index[pivotindex], index[i]       \n",
    "            pivotindex +=1\n",
    "            \n",
    "    alist[pivotindex],alist[high] = alist[high], alist[pivotindex]\n",
    "    index[pivotindex],index[high] = index[high], index[pivotindex]\n",
    "    \n",
    "    return pivotindex"
   ]
  },
  {
   "cell_type": "markdown",
   "metadata": {},
   "source": [
    "### To find the nearest neighbor"
   ]
  },
  {
   "cell_type": "code",
   "execution_count": 43,
   "metadata": {},
   "outputs": [],
   "source": [
    "def Get_Neighbors(data, test,index):\n",
    "    \n",
    "    distances=Get_Distance(data, test)\n",
    "    \n",
    "    neighbors=Quick_Sort(distances,0,len(distances)-1,index)\n",
    "    \n",
    "    return neighbors"
   ]
  },
  {
   "cell_type": "markdown",
   "metadata": {},
   "source": [
    "### Testing with random input data"
   ]
  },
  {
   "cell_type": "code",
   "execution_count": 83,
   "metadata": {},
   "outputs": [
    {
     "name": "stdout",
     "output_type": "stream",
     "text": [
      "Random i/p data:\n",
      " [[-1.23329129]\n",
      " [-0.58826441]\n",
      " [ 0.7575026 ]\n",
      " [ 2.23545268]\n",
      " [ 0.30823977]\n",
      " [ 0.35196177]\n",
      " [ 1.08104695]\n",
      " [ 0.06593028]\n",
      " [-0.0580789 ]\n",
      " [-2.30261356]]\n",
      "The input data represent the person with label :  123\n"
     ]
    }
   ],
   "source": [
    "feature_shape=10\n",
    "    \n",
    "images=1000\n",
    "    \n",
    "database = Get_data(feature_shape,images)\n",
    "    \n",
    "test = np.random.randn(feature_shape,1)               #Generating random i/p\n",
    "print('Random i/p data:\\n',test)\n",
    "index = list(range(images))                           #Generating list of indexes   \n",
    "\n",
    "neighbor = Get_Neighbors(database, test,index)\n",
    "\n",
    "print('The input data represent the person with label : ',neighbor[0])      #Taking the 1st nearest neighbor as o/p"
   ]
  },
  {
   "cell_type": "code",
   "execution_count": null,
   "metadata": {},
   "outputs": [],
   "source": []
  }
 ],
 "metadata": {
  "kernelspec": {
   "display_name": "Python 3",
   "language": "python",
   "name": "python3"
  },
  "language_info": {
   "codemirror_mode": {
    "name": "ipython",
    "version": 3
   },
   "file_extension": ".py",
   "mimetype": "text/x-python",
   "name": "python",
   "nbconvert_exporter": "python",
   "pygments_lexer": "ipython3",
   "version": "3.6.2"
  }
 },
 "nbformat": 4,
 "nbformat_minor": 2
}
